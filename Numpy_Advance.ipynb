{
  "nbformat": 4,
  "nbformat_minor": 0,
  "metadata": {
    "colab": {
      "provenance": [],
      "authorship_tag": "ABX9TyPHSC3WMxIQ6oxppr4M8Ti6",
      "include_colab_link": true
    },
    "kernelspec": {
      "name": "python3",
      "display_name": "Python 3"
    },
    "language_info": {
      "name": "python"
    }
  },
  "cells": [
    {
      "cell_type": "markdown",
      "metadata": {
        "id": "view-in-github",
        "colab_type": "text"
      },
      "source": [
        "<a href=\"https://colab.research.google.com/github/MANMOHAN04/manmohan/blob/main/Numpy_Advance.ipynb\" target=\"_parent\"><img src=\"https://colab.research.google.com/assets/colab-badge.svg\" alt=\"Open In Colab\"/></a>"
      ]
    },
    {
      "cell_type": "code",
      "execution_count": null,
      "metadata": {
        "id": "A81XqTIXkG27"
      },
      "outputs": [],
      "source": [
        "import time\n",
        "import numpy as np\n",
        "import matplotlib.pyplot as plt"
      ]
    },
    {
      "cell_type": "markdown",
      "source": [
        "#Numpy Arrays vs Python Lists"
      ],
      "metadata": {
        "id": "CtZZsFPekcRH"
      }
    },
    {
      "cell_type": "code",
      "source": [
        "#speed\n",
        "#list\n",
        "\n",
        "a = [i for i in range(10000000)]\n",
        "b=[i for i in range(10000000,20000000)]\n",
        "\n",
        "c=[]\n",
        "start=time.time()\n",
        "for i in range(len(a)):\n",
        "  c.append(a[i]+b[i])\n",
        "\n",
        "print(time.time()-start)\n"
      ],
      "metadata": {
        "colab": {
          "base_uri": "https://localhost:8080/"
        },
        "id": "fZS44Lz5kmIL",
        "outputId": "0961047a-bdda-4e69-bf96-08482bf6e888"
      },
      "execution_count": null,
      "outputs": [
        {
          "output_type": "stream",
          "name": "stdout",
          "text": [
            "3.1580896377563477\n"
          ]
        }
      ]
    },
    {
      "cell_type": "code",
      "source": [
        "#speed\n",
        "#numpy\n",
        "\n",
        "a=np.arange(10000000)\n",
        "b=np.arange(10000000,20000000)\n",
        "start=time.time()\n",
        "c=a+b\n",
        "print(time.time()-start)"
      ],
      "metadata": {
        "colab": {
          "base_uri": "https://localhost:8080/"
        },
        "id": "yh5ndTkamYxF",
        "outputId": "315a63cd-8046-43c7-ead6-00bf12e11947"
      },
      "execution_count": null,
      "outputs": [
        {
          "output_type": "stream",
          "name": "stdout",
          "text": [
            "0.035452842712402344\n"
          ]
        }
      ]
    },
    {
      "cell_type": "code",
      "source": [
        "#memory\n",
        "#list\n",
        "\n",
        "a=[i for i in range(10000000)]\n",
        "\n",
        "import sys\n",
        "sys.getsizeof(a)"
      ],
      "metadata": {
        "colab": {
          "base_uri": "https://localhost:8080/"
        },
        "id": "ExqVL7NOnNWl",
        "outputId": "78ee6dae-cf17-4d3e-f992-742f91487c15"
      },
      "execution_count": null,
      "outputs": [
        {
          "output_type": "execute_result",
          "data": {
            "text/plain": [
              "89095160"
            ]
          },
          "metadata": {},
          "execution_count": 5
        }
      ]
    },
    {
      "cell_type": "code",
      "source": [
        "a=np.arange(10000000)\n",
        "sys.getsizeof(a)"
      ],
      "metadata": {
        "colab": {
          "base_uri": "https://localhost:8080/"
        },
        "id": "75MsGnpNoP9b",
        "outputId": "7d6b6d84-5923-4116-b9c9-bb6953776f6b"
      },
      "execution_count": null,
      "outputs": [
        {
          "output_type": "execute_result",
          "data": {
            "text/plain": [
              "80000112"
            ]
          },
          "metadata": {},
          "execution_count": 6
        }
      ]
    },
    {
      "cell_type": "code",
      "source": [
        "a=np.arange(12).reshape(4,3)\n",
        "a"
      ],
      "metadata": {
        "colab": {
          "base_uri": "https://localhost:8080/"
        },
        "id": "V4jdUTxHofjX",
        "outputId": "2c2edb54-4974-4ab3-bab4-3ea668f78719"
      },
      "execution_count": null,
      "outputs": [
        {
          "output_type": "execute_result",
          "data": {
            "text/plain": [
              "array([[ 0,  1,  2],\n",
              "       [ 3,  4,  5],\n",
              "       [ 6,  7,  8],\n",
              "       [ 9, 10, 11]])"
            ]
          },
          "metadata": {},
          "execution_count": 8
        }
      ]
    },
    {
      "cell_type": "code",
      "source": [
        "#Fancy Indexing\n",
        "\n",
        "a[[0,2,3]]"
      ],
      "metadata": {
        "colab": {
          "base_uri": "https://localhost:8080/"
        },
        "id": "4YMKx4mypopv",
        "outputId": "ad7bb1a2-f672-46da-b80f-919839d4ad8f"
      },
      "execution_count": null,
      "outputs": [
        {
          "output_type": "execute_result",
          "data": {
            "text/plain": [
              "array([[ 0,  1,  2],\n",
              "       [ 6,  7,  8],\n",
              "       [ 9, 10, 11]])"
            ]
          },
          "metadata": {},
          "execution_count": 9
        }
      ]
    },
    {
      "cell_type": "code",
      "source": [
        "a[:,[1,2]]"
      ],
      "metadata": {
        "colab": {
          "base_uri": "https://localhost:8080/"
        },
        "id": "wg0GztPeqJgw",
        "outputId": "5e2018a6-2f09-440a-d21e-867851d4b682"
      },
      "execution_count": null,
      "outputs": [
        {
          "output_type": "execute_result",
          "data": {
            "text/plain": [
              "array([[ 1,  2],\n",
              "       [ 4,  5],\n",
              "       [ 7,  8],\n",
              "       [10, 11]])"
            ]
          },
          "metadata": {},
          "execution_count": 10
        }
      ]
    },
    {
      "cell_type": "code",
      "source": [
        "#Boolean Indexing\n",
        "\n",
        "d= np.random.randint(1,100,24).reshape(6,4)\n",
        "d"
      ],
      "metadata": {
        "colab": {
          "base_uri": "https://localhost:8080/"
        },
        "id": "e813aCz_qkgX",
        "outputId": "547be25e-fc5d-44fc-9cfe-6da66103469e"
      },
      "execution_count": null,
      "outputs": [
        {
          "output_type": "execute_result",
          "data": {
            "text/plain": [
              "array([[32, 26, 80, 17],\n",
              "       [99, 40, 83,  1],\n",
              "       [92, 64, 93, 85],\n",
              "       [99,  8, 97, 67],\n",
              "       [47, 28, 52, 47],\n",
              "       [69, 10, 37, 82]])"
            ]
          },
          "metadata": {},
          "execution_count": 12
        }
      ]
    },
    {
      "cell_type": "code",
      "source": [
        "#find all number greater than 50\n",
        "d[d>50]"
      ],
      "metadata": {
        "colab": {
          "base_uri": "https://localhost:8080/"
        },
        "id": "03E1i9F1q5S8",
        "outputId": "a53d49dc-e1ce-4eec-cf40-edccb7aa9b16"
      },
      "execution_count": null,
      "outputs": [
        {
          "output_type": "execute_result",
          "data": {
            "text/plain": [
              "array([80, 99, 83, 92, 64, 93, 85, 99, 97, 67, 52, 69, 82])"
            ]
          },
          "metadata": {},
          "execution_count": 13
        }
      ]
    },
    {
      "cell_type": "code",
      "source": [
        "#find out even numbers\n",
        "d[d%2==0]"
      ],
      "metadata": {
        "colab": {
          "base_uri": "https://localhost:8080/"
        },
        "id": "llyJSa1Ys_nT",
        "outputId": "f688c867-0c4a-4945-daa8-82186f36a50f"
      },
      "execution_count": null,
      "outputs": [
        {
          "output_type": "execute_result",
          "data": {
            "text/plain": [
              "array([32, 26, 80, 40, 92, 64,  8, 28, 52, 10, 82])"
            ]
          },
          "metadata": {},
          "execution_count": 15
        }
      ]
    },
    {
      "cell_type": "code",
      "source": [
        "#find all numbers greater than 50 and are evens\n",
        "d[(d>50)&(d%2==0)]"
      ],
      "metadata": {
        "colab": {
          "base_uri": "https://localhost:8080/"
        },
        "id": "ER-AueSbtR9W",
        "outputId": "d36938c9-61a5-4875-da16-393a22ee0be4"
      },
      "execution_count": null,
      "outputs": [
        {
          "output_type": "execute_result",
          "data": {
            "text/plain": [
              "array([80, 92, 64, 52, 82])"
            ]
          },
          "metadata": {},
          "execution_count": 16
        }
      ]
    },
    {
      "cell_type": "code",
      "source": [
        "#find all numbers which is not divisible by 7\n",
        "d[d%7!=0]"
      ],
      "metadata": {
        "colab": {
          "base_uri": "https://localhost:8080/"
        },
        "id": "sn2Nty8Rt3kT",
        "outputId": "606f82af-42f6-4d4e-f50c-c41350636e5f"
      },
      "execution_count": null,
      "outputs": [
        {
          "output_type": "execute_result",
          "data": {
            "text/plain": [
              "array([32, 26, 80, 17, 99, 40, 83,  1, 92, 64, 93, 85, 99,  8, 97, 67, 47,\n",
              "       52, 47, 69, 10, 37, 82])"
            ]
          },
          "metadata": {},
          "execution_count": 19
        }
      ]
    },
    {
      "cell_type": "markdown",
      "source": [
        "#Broadcasting"
      ],
      "metadata": {
        "id": "0VNw_IjWuh98"
      }
    },
    {
      "cell_type": "code",
      "source": [
        "#diff shape\n",
        "a=np.arange(6).reshape(2,3)\n",
        "b=np.arange(3).reshape(1,3)\n",
        "print(a)\n",
        "print(b)\n",
        "print(a+b)"
      ],
      "metadata": {
        "colab": {
          "base_uri": "https://localhost:8080/"
        },
        "id": "x_0qsR4QuFNw",
        "outputId": "ca26738b-f5c7-409a-bf0e-14f465d9279f"
      },
      "execution_count": null,
      "outputs": [
        {
          "output_type": "stream",
          "name": "stdout",
          "text": [
            "[[0 1 2]\n",
            " [3 4 5]]\n",
            "[[0 1 2]]\n",
            "[[0 2 4]\n",
            " [3 5 7]]\n"
          ]
        }
      ]
    },
    {
      "cell_type": "markdown",
      "source": [
        "#Working with mathematical formula"
      ],
      "metadata": {
        "id": "uQGpfwxoQL3l"
      }
    },
    {
      "cell_type": "code",
      "source": [
        "a=np.arange(10)\n",
        "a"
      ],
      "metadata": {
        "id": "YOATbGYhwFIy",
        "colab": {
          "base_uri": "https://localhost:8080/"
        },
        "outputId": "7d2a4e6f-3019-4378-e1b3-e4889923472e"
      },
      "execution_count": null,
      "outputs": [
        {
          "output_type": "execute_result",
          "data": {
            "text/plain": [
              "array([0, 1, 2, 3, 4, 5, 6, 7, 8, 9])"
            ]
          },
          "metadata": {},
          "execution_count": 2
        }
      ]
    },
    {
      "cell_type": "code",
      "source": [
        "np.sum(a)"
      ],
      "metadata": {
        "colab": {
          "base_uri": "https://localhost:8080/"
        },
        "id": "do52CqDSQZrm",
        "outputId": "dc3d82f1-b50f-486a-e103-70031087d1f4"
      },
      "execution_count": null,
      "outputs": [
        {
          "output_type": "execute_result",
          "data": {
            "text/plain": [
              "45"
            ]
          },
          "metadata": {},
          "execution_count": 3
        }
      ]
    },
    {
      "cell_type": "code",
      "source": [
        "#sigmoid\n",
        "\n",
        "def sigmoid(array):\n",
        "  return 1/(1+np.exp(-(array)))\n",
        "\n",
        "b = np.arange(10)\n",
        "sigmoid(b)"
      ],
      "metadata": {
        "colab": {
          "base_uri": "https://localhost:8080/"
        },
        "id": "sWJIuopnQcKd",
        "outputId": "90060116-d704-483c-8de5-2758a29e8507"
      },
      "execution_count": null,
      "outputs": [
        {
          "output_type": "execute_result",
          "data": {
            "text/plain": [
              "array([0.5       , 0.73105858, 0.88079708, 0.95257413, 0.98201379,\n",
              "       0.99330715, 0.99752738, 0.99908895, 0.99966465, 0.99987661])"
            ]
          },
          "metadata": {},
          "execution_count": 5
        }
      ]
    },
    {
      "cell_type": "code",
      "source": [
        "#mean square error\n",
        "actual = np.random.randint(1,50,25)\n",
        "predicted = np.random.randint(1,50,25)\n",
        "actual"
      ],
      "metadata": {
        "colab": {
          "base_uri": "https://localhost:8080/"
        },
        "id": "i-ZTyw47RUmi",
        "outputId": "3c72dcab-b04f-4a32-fcb3-4f4bedf644cc"
      },
      "execution_count": null,
      "outputs": [
        {
          "output_type": "execute_result",
          "data": {
            "text/plain": [
              "array([ 8, 16,  9, 12, 42, 27,  4, 40, 29, 12, 25, 25, 37, 35, 17, 15, 43,\n",
              "       46, 14, 37,  1, 49,  5, 21, 37])"
            ]
          },
          "metadata": {},
          "execution_count": 7
        }
      ]
    },
    {
      "cell_type": "code",
      "source": [
        "predicted"
      ],
      "metadata": {
        "colab": {
          "base_uri": "https://localhost:8080/"
        },
        "id": "PBnTwQIATR-E",
        "outputId": "f4fea5fa-56a9-40a8-9c72-f7c133d2064b"
      },
      "execution_count": null,
      "outputs": [
        {
          "output_type": "execute_result",
          "data": {
            "text/plain": [
              "array([38, 39, 39, 32,  3, 25, 10, 23, 44, 49, 39, 39, 34, 36, 27, 47, 45,\n",
              "       49,  4, 47, 39, 31,  6,  3, 26])"
            ]
          },
          "metadata": {},
          "execution_count": 8
        }
      ]
    },
    {
      "cell_type": "code",
      "source": [
        "def mse(actual,predicted):\n",
        "  return np.mean((actual-predicted)**2)\n",
        "\n",
        "mse(actual,predicted)\n"
      ],
      "metadata": {
        "colab": {
          "base_uri": "https://localhost:8080/"
        },
        "id": "p9WhwWBgTY5Q",
        "outputId": "a7381749-3a0f-4dcd-dbdc-ff5eb93675cd"
      },
      "execution_count": null,
      "outputs": [
        {
          "output_type": "execute_result",
          "data": {
            "text/plain": [
              "405.04"
            ]
          },
          "metadata": {},
          "execution_count": 9
        }
      ]
    },
    {
      "cell_type": "code",
      "source": [
        "#binary cross entropy\n"
      ],
      "metadata": {
        "id": "lYdpe5isT_qI"
      },
      "execution_count": null,
      "outputs": []
    },
    {
      "cell_type": "markdown",
      "source": [
        "#Working with missing value"
      ],
      "metadata": {
        "id": "0MKAUh71VF7I"
      }
    },
    {
      "cell_type": "code",
      "source": [
        "a=np.array([1,2,3,4,np.nan,6])\n",
        "a"
      ],
      "metadata": {
        "colab": {
          "base_uri": "https://localhost:8080/"
        },
        "id": "WQVeQtr4Ua_L",
        "outputId": "94baf0d8-bc9c-43d1-eb32-9fdfb19453b1"
      },
      "execution_count": null,
      "outputs": [
        {
          "output_type": "execute_result",
          "data": {
            "text/plain": [
              "array([ 1.,  2.,  3.,  4., nan,  6.])"
            ]
          },
          "metadata": {},
          "execution_count": 13
        }
      ]
    },
    {
      "cell_type": "code",
      "source": [
        "a[~np.isnan(a)]"
      ],
      "metadata": {
        "colab": {
          "base_uri": "https://localhost:8080/"
        },
        "id": "ajtLWC5_VWSo",
        "outputId": "43bd1ff4-3293-4714-fe9d-62b5026bf747"
      },
      "execution_count": null,
      "outputs": [
        {
          "output_type": "execute_result",
          "data": {
            "text/plain": [
              "array([1., 2., 3., 4., 6.])"
            ]
          },
          "metadata": {},
          "execution_count": 14
        }
      ]
    },
    {
      "cell_type": "markdown",
      "source": [
        "#Plotting a graph"
      ],
      "metadata": {
        "id": "dllOe0iXWLj2"
      }
    },
    {
      "cell_type": "code",
      "source": [
        "x=np.linspace(-20,20,100)\n",
        "y=x\n",
        "\n",
        "plt.plot(x,y)"
      ],
      "metadata": {
        "colab": {
          "base_uri": "https://localhost:8080/",
          "height": 447
        },
        "id": "xXHYlEm7V-Bg",
        "outputId": "c3b1e414-a7fe-46c9-ee80-7ae152fa6e61"
      },
      "execution_count": null,
      "outputs": [
        {
          "output_type": "execute_result",
          "data": {
            "text/plain": [
              "[<matplotlib.lines.Line2D at 0x7fb6043c5090>]"
            ]
          },
          "metadata": {},
          "execution_count": 19
        },
        {
          "output_type": "display_data",
          "data": {
            "text/plain": [
              "<Figure size 640x480 with 1 Axes>"
            ],
            "image/png": "[encoded data removed]"
          },
          "metadata": {}
        }
      ]
    },
    {
      "cell_type": "code",
      "source": [
        "x=np.linspace(-20,20,50)\n",
        "y=x**2\n",
        "\n",
        "plt.plot(x,y)"
      ],
      "metadata": {
        "colab": {
          "base_uri": "https://localhost:8080/",
          "height": 447
        },
        "id": "IEXiH1UDYWlK",
        "outputId": "0a464944-06fa-450c-d1b3-d6041467870e"
      },
      "execution_count": null,
      "outputs": [
        {
          "output_type": "execute_result",
          "data": {
            "text/plain": [
              "[<matplotlib.lines.Line2D at 0x7fb6046c3130>]"
            ]
          },
          "metadata": {},
          "execution_count": 22
        },
        {
          "output_type": "display_data",
          "data": {
            "text/plain": [
              "<Figure size 640x480 with 1 Axes>"
            ],
            "image/png": "[encoded data removed]"
          },
          "metadata": {}
        }
      ]
    },
    {
      "cell_type": "code",
      "source": [
        "#sin(x)\n",
        "x=np.linspace(-20,20,50)\n",
        "y=np.sin(x)\n",
        "plt.plot(x,y)"
      ],
      "metadata": {
        "colab": {
          "base_uri": "https://localhost:8080/",
          "height": 447
        },
        "id": "MFHEZfU0Y53m",
        "outputId": "08d29fdb-68a5-416d-d522-8908da46ea83"
      },
      "execution_count": null,
      "outputs": [
        {
          "output_type": "execute_result",
          "data": {
            "text/plain": [
              "[<matplotlib.lines.Line2D at 0x7fb604268610>]"
            ]
          },
          "metadata": {},
          "execution_count": 24
        },
        {
          "output_type": "display_data",
          "data": {
            "text/plain": [
              "<Figure size 640x480 with 1 Axes>"
            ],
            "image/png": "[encoded data removed]"
          },
          "metadata": {}
        }
      ]
    },
    {
      "cell_type": "code",
      "source": [
        "#xlog(x)\n",
        "x=np.linspace(-20,20,50)\n",
        "y=x*np.log(x)\n",
        "\n",
        "plt.plot(x,y)"
      ],
      "metadata": {
        "colab": {
          "base_uri": "https://localhost:8080/",
          "height": 482
        },
        "id": "xXOTO9wOaNVm",
        "outputId": "b779fea7-0b0a-41ca-c57b-92aa65dfad2c"
      },
      "execution_count": null,
      "outputs": [
        {
          "output_type": "stream",
          "name": "stderr",
          "text": [
            "<ipython-input-26-85e913537964>:2: RuntimeWarning: invalid value encountered in log\n",
            "  y=x*np.log(x)\n"
          ]
        },
        {
          "output_type": "execute_result",
          "data": {
            "text/plain": [
              "[<matplotlib.lines.Line2D at 0x7fb603cbc100>]"
            ]
          },
          "metadata": {},
          "execution_count": 26
        },
        {
          "output_type": "display_data",
          "data": {
            "text/plain": [
              "<Figure size 640x480 with 1 Axes>"
            ],
            "image/png": "[encoded data removed]"
          },
          "metadata": {}
        }
      ]
    },
    {
      "cell_type": "code",
      "source": [
        "#sigmoid\n",
        "x=np.linspace(-20,20,50)\n",
        "y=1/(1+np.exp(-(x)))\n",
        "\n",
        "plt.plot(x,y)"
      ],
      "metadata": {
        "colab": {
          "base_uri": "https://localhost:8080/",
          "height": 447
        },
        "id": "nwIF3_YGa0Ic",
        "outputId": "763cd8e0-2d59-4fe2-dd0c-61245e42c0c5"
      },
      "execution_count": null,
      "outputs": [
        {
          "output_type": "execute_result",
          "data": {
            "text/plain": [
              "[<matplotlib.lines.Line2D at 0x7fb603c88c40>]"
            ]
          },
          "metadata": {},
          "execution_count": 27
        },
        {
          "output_type": "display_data",
          "data": {
            "text/plain": [
              "<Figure size 640x480 with 1 Axes>"
            ],
            "image/png": "[encoded data removed]"
          },
          "metadata": {}
        }
      ]
    },
    {
      "cell_type": "code",
      "source": [],
      "metadata": {
        "id": "leETEbbubfo3"
      },
      "execution_count": null,
      "outputs": []
    }
  ]
}