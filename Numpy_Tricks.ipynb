{
  "nbformat": 4,
  "nbformat_minor": 0,
  "metadata": {
    "colab": {
      "provenance": [],
      "authorship_tag": "ABX9TyOzv6pjcgZG8vsSxZDbS+QW",
      "include_colab_link": true
    },
    "kernelspec": {
      "name": "python3",
      "display_name": "Python 3"
    },
    "language_info": {
      "name": "python"
    }
  },
  "cells": [
    {
      "cell_type": "markdown",
      "metadata": {
        "id": "view-in-github",
        "colab_type": "text"
      },
      "source": [
        "<a href=\"https://colab.research.google.com/github/MANMOHAN04/manmohan/blob/main/Numpy_Tricks.ipynb\" target=\"_parent\"><img src=\"https://colab.research.google.com/assets/colab-badge.svg\" alt=\"Open In Colab\"/></a>"
      ]
    },
    {
      "cell_type": "markdown",
      "source": [
        "#np.sort"
      ],
      "metadata": {
        "id": "-ycYou8gkeUg"
      }
    },
    {
      "cell_type": "code",
      "source": [
        "import numpy as np"
      ],
      "metadata": {
        "id": "jDCnMArkkBhh"
      },
      "execution_count": null,
      "outputs": []
    },
    {
      "cell_type": "code",
      "source": [
        "a=np.random.randint(1,100,15)\n",
        "a"
      ],
      "metadata": {
        "colab": {
          "base_uri": "https://localhost:8080/"
        },
        "id": "O9SmP_UBkkQp",
        "outputId": "908a7373-4735-40f9-e796-bbf11d9f2db7"
      },
      "execution_count": null,
      "outputs": [
        {
          "output_type": "execute_result",
          "data": {
            "text/plain": [
              "array([80, 66, 33,  5, 12, 87, 44, 65,  3, 15, 66, 83, 12, 60, 60])"
            ]
          },
          "metadata": {},
          "execution_count": 2
        }
      ]
    },
    {
      "cell_type": "code",
      "source": [
        "np.sort(a) #[::-1] are used to sort in desending order"
      ],
      "metadata": {
        "colab": {
          "base_uri": "https://localhost:8080/"
        },
        "id": "AvNDbltKlTaf",
        "outputId": "6360262a-1453-4af9-956d-523d6c047bbc"
      },
      "execution_count": null,
      "outputs": [
        {
          "output_type": "execute_result",
          "data": {
            "text/plain": [
              "array([ 1,  2, 21, 26, 26, 28, 40, 44, 53, 72, 74, 80, 83, 86, 99])"
            ]
          },
          "metadata": {},
          "execution_count": 6
        }
      ]
    },
    {
      "cell_type": "code",
      "source": [
        "b=np.random.randint(1,100,24).reshape(6,4)\n",
        "b"
      ],
      "metadata": {
        "colab": {
          "base_uri": "https://localhost:8080/"
        },
        "id": "AuWNY05Vk4BL",
        "outputId": "5cd5ee38-9f21-4ab8-8e82-c92ed67a50b3"
      },
      "execution_count": null,
      "outputs": [
        {
          "output_type": "execute_result",
          "data": {
            "text/plain": [
              "array([[ 6, 60, 27, 17],\n",
              "       [59, 72, 23, 14],\n",
              "       [98, 38,  7, 34],\n",
              "       [ 8, 83, 56, 80],\n",
              "       [45, 90, 43, 26],\n",
              "       [25, 70,  2, 90]])"
            ]
          },
          "metadata": {},
          "execution_count": 3
        }
      ]
    },
    {
      "cell_type": "code",
      "source": [
        "np.sort(b)"
      ],
      "metadata": {
        "colab": {
          "base_uri": "https://localhost:8080/"
        },
        "id": "7s2N6VyVk-0e",
        "outputId": "9e7c8ebf-f5d0-4bb0-e4cc-9da437a0237f"
      },
      "execution_count": null,
      "outputs": [
        {
          "output_type": "execute_result",
          "data": {
            "text/plain": [
              "array([[14, 17, 21, 71],\n",
              "       [ 7, 21, 26, 99],\n",
              "       [12, 15, 33, 59],\n",
              "       [65, 75, 91, 95],\n",
              "       [57, 60, 75, 86],\n",
              "       [ 7, 25, 56, 92]])"
            ]
          },
          "metadata": {},
          "execution_count": 7
        }
      ]
    },
    {
      "cell_type": "markdown",
      "source": [
        "#np.append"
      ],
      "metadata": {
        "id": "hbZIFqYInEbL"
      }
    },
    {
      "cell_type": "code",
      "source": [
        "np.append(a,200)"
      ],
      "metadata": {
        "colab": {
          "base_uri": "https://localhost:8080/"
        },
        "id": "1usAEQQHmhrT",
        "outputId": "524c7649-7d15-401e-a4c3-88a1cbd30f5a"
      },
      "execution_count": null,
      "outputs": [
        {
          "output_type": "execute_result",
          "data": {
            "text/plain": [
              "array([ 83,  21,  44,  26,  72,   1,  86,  99,  40,  28,   2,  26,  80,\n",
              "        74,  53, 200])"
            ]
          },
          "metadata": {},
          "execution_count": 8
        }
      ]
    },
    {
      "cell_type": "code",
      "source": [
        "np.append(b,np.ones((b.shape[0],1)),axis=1)"
      ],
      "metadata": {
        "colab": {
          "base_uri": "https://localhost:8080/"
        },
        "id": "Ku8d-AUVnKQK",
        "outputId": "d363b3e0-5ce0-4725-c3e4-56162630172d"
      },
      "execution_count": null,
      "outputs": [
        {
          "output_type": "execute_result",
          "data": {
            "text/plain": [
              "array([[21., 14., 17., 71.,  1.],\n",
              "       [26.,  7., 99., 21.,  1.],\n",
              "       [59., 12., 33., 15.,  1.],\n",
              "       [95., 65., 91., 75.,  1.],\n",
              "       [60., 86., 75., 57.,  1.],\n",
              "       [ 7., 92., 25., 56.,  1.]])"
            ]
          },
          "metadata": {},
          "execution_count": 9
        }
      ]
    },
    {
      "cell_type": "markdown",
      "source": [
        "#np.concatenate"
      ],
      "metadata": {
        "id": "BCijf2xTn8TG"
      }
    },
    {
      "cell_type": "code",
      "source": [
        "c=np.arange(6).reshape(2,3)\n",
        "d=np.arange(6,12).reshape(2,3)\n",
        "print(c)\n",
        "print(d)"
      ],
      "metadata": {
        "colab": {
          "base_uri": "https://localhost:8080/"
        },
        "id": "pT2v4YPOn0-8",
        "outputId": "91dc4761-0964-4305-c7ab-4ddb45f0f67c"
      },
      "execution_count": null,
      "outputs": [
        {
          "output_type": "stream",
          "name": "stdout",
          "text": [
            "[[0 1 2]\n",
            " [3 4 5]]\n",
            "[[ 6  7  8]\n",
            " [ 9 10 11]]\n"
          ]
        }
      ]
    },
    {
      "cell_type": "code",
      "source": [
        "np.concatenate((c,d),axis=0)"
      ],
      "metadata": {
        "colab": {
          "base_uri": "https://localhost:8080/"
        },
        "id": "HPyw-oxUoq-v",
        "outputId": "d19c189a-623a-4db0-c461-d1f38d15edf6"
      },
      "execution_count": null,
      "outputs": [
        {
          "output_type": "execute_result",
          "data": {
            "text/plain": [
              "array([[ 0,  1,  2],\n",
              "       [ 3,  4,  5],\n",
              "       [ 6,  7,  8],\n",
              "       [ 9, 10, 11]])"
            ]
          },
          "metadata": {},
          "execution_count": 16
        }
      ]
    },
    {
      "cell_type": "markdown",
      "source": [
        "#np.unique"
      ],
      "metadata": {
        "id": "1iXYPBifpjMI"
      }
    },
    {
      "cell_type": "code",
      "source": [
        "e=np.array([1,2,1,2,3,1,2,3,4,2,3,4,5,3,4,5,6])\n",
        "e"
      ],
      "metadata": {
        "colab": {
          "base_uri": "https://localhost:8080/"
        },
        "id": "UN1x-S2Pov7o",
        "outputId": "f3b16a1a-9a1e-4eed-a220-617b29ba2f79"
      },
      "execution_count": null,
      "outputs": [
        {
          "output_type": "execute_result",
          "data": {
            "text/plain": [
              "array([1, 2, 1, 2, 3, 1, 2, 3, 4, 2, 3, 4, 5, 3, 4, 5, 6])"
            ]
          },
          "metadata": {},
          "execution_count": 5
        }
      ]
    },
    {
      "cell_type": "code",
      "source": [
        "np.unique(e)"
      ],
      "metadata": {
        "colab": {
          "base_uri": "https://localhost:8080/"
        },
        "id": "D5bLDajgp5OT",
        "outputId": "3b9b6a9d-fbe5-48c3-9bd0-0f4c01acd283"
      },
      "execution_count": null,
      "outputs": [
        {
          "output_type": "execute_result",
          "data": {
            "text/plain": [
              "array([1, 2, 3, 4, 5, 6])"
            ]
          },
          "metadata": {},
          "execution_count": 18
        }
      ]
    },
    {
      "cell_type": "markdown",
      "source": [
        "#np.expand_dims"
      ],
      "metadata": {
        "id": "TqN1uZK-qH8B"
      }
    },
    {
      "cell_type": "code",
      "source": [
        "np.expand_dims(a,axis=0)"
      ],
      "metadata": {
        "colab": {
          "base_uri": "https://localhost:8080/"
        },
        "id": "Y1RdH6LHp8ng",
        "outputId": "990c4015-c21a-46ce-a906-9a65fb702f63"
      },
      "execution_count": null,
      "outputs": [
        {
          "output_type": "execute_result",
          "data": {
            "text/plain": [
              "array([[83, 21, 44, 26, 72,  1, 86, 99, 40, 28,  2, 26, 80, 74, 53]])"
            ]
          },
          "metadata": {},
          "execution_count": 20
        }
      ]
    },
    {
      "cell_type": "code",
      "source": [
        "np.expand_dims(a,axis=0).shape"
      ],
      "metadata": {
        "colab": {
          "base_uri": "https://localhost:8080/"
        },
        "id": "8b_1gc36qlv1",
        "outputId": "39167e71-dd26-4f2d-8167-274d96e4da6d"
      },
      "execution_count": null,
      "outputs": [
        {
          "output_type": "execute_result",
          "data": {
            "text/plain": [
              "(1, 15)"
            ]
          },
          "metadata": {},
          "execution_count": 21
        }
      ]
    },
    {
      "cell_type": "markdown",
      "source": [
        "#np.where"
      ],
      "metadata": {
        "id": "8_-s3Dw0BTRL"
      }
    },
    {
      "cell_type": "code",
      "source": [
        "a"
      ],
      "metadata": {
        "id": "vnYVVG4Uq0za",
        "colab": {
          "base_uri": "https://localhost:8080/"
        },
        "outputId": "40203ff6-5f12-4fe7-e496-32b614fad10d"
      },
      "execution_count": null,
      "outputs": [
        {
          "output_type": "execute_result",
          "data": {
            "text/plain": [
              "array([ 4, 25, 85, 64, 79, 98, 47, 34, 16, 68, 23, 39, 96, 63, 88])"
            ]
          },
          "metadata": {},
          "execution_count": 6
        }
      ]
    },
    {
      "cell_type": "code",
      "source": [
        "#find all indexes whose values are greater than 50\n",
        "np.where(a>50)"
      ],
      "metadata": {
        "colab": {
          "base_uri": "https://localhost:8080/"
        },
        "id": "I2H2eldxBZO3",
        "outputId": "cb966ba2-25c4-4ac4-e508-a05b0540cd24"
      },
      "execution_count": null,
      "outputs": [
        {
          "output_type": "execute_result",
          "data": {
            "text/plain": [
              "(array([ 2,  3,  4,  5,  9, 12, 13, 14]),)"
            ]
          },
          "metadata": {},
          "execution_count": 10
        }
      ]
    },
    {
      "cell_type": "code",
      "source": [
        "#replace all the values which are greater >50 with 0\n",
        "np.where(a>50,0,a)"
      ],
      "metadata": {
        "colab": {
          "base_uri": "https://localhost:8080/"
        },
        "id": "bgt7UbZiBgQ5",
        "outputId": "dbe1ab1f-a62c-46af-bae1-c7fe1db1c7a3"
      },
      "execution_count": null,
      "outputs": [
        {
          "output_type": "execute_result",
          "data": {
            "text/plain": [
              "array([ 4, 25,  0,  0,  0,  0, 47, 34, 16,  0, 23, 39,  0,  0,  0])"
            ]
          },
          "metadata": {},
          "execution_count": 11
        }
      ]
    },
    {
      "cell_type": "code",
      "source": [
        "#replace all even no. with 0\n",
        "np.where(a%2==0,0,a)"
      ],
      "metadata": {
        "colab": {
          "base_uri": "https://localhost:8080/"
        },
        "id": "NNDvUXJCBk08",
        "outputId": "763ec5b0-1706-4f2b-9ad6-7a13fc1627e8"
      },
      "execution_count": null,
      "outputs": [
        {
          "output_type": "execute_result",
          "data": {
            "text/plain": [
              "array([ 0, 25, 85,  0, 79,  0, 47,  0,  0,  0, 23, 39,  0, 63,  0])"
            ]
          },
          "metadata": {},
          "execution_count": 12
        }
      ]
    },
    {
      "cell_type": "markdown",
      "source": [
        "#np.argmax"
      ],
      "metadata": {
        "id": "PNQPrJ2-Jp5Y"
      }
    },
    {
      "cell_type": "code",
      "source": [
        "a"
      ],
      "metadata": {
        "id": "sW-aJkYSC3wp",
        "colab": {
          "base_uri": "https://localhost:8080/"
        },
        "outputId": "6dd4b80b-ccbe-47ca-c5ae-bcf5a2db5c26"
      },
      "execution_count": null,
      "outputs": [
        {
          "output_type": "execute_result",
          "data": {
            "text/plain": [
              "array([39, 84, 31, 30,  1, 89, 88, 87, 69, 64, 67, 71, 64, 45, 84])"
            ]
          },
          "metadata": {},
          "execution_count": 6
        }
      ]
    },
    {
      "cell_type": "code",
      "source": [
        "np.argmax(a)   #argmax are used to find index of a max no"
      ],
      "metadata": {
        "colab": {
          "base_uri": "https://localhost:8080/"
        },
        "id": "ebs3DmMWJ1GA",
        "outputId": "a306177a-e102-4ff6-9e4a-e47a914f8f32"
      },
      "execution_count": null,
      "outputs": [
        {
          "output_type": "execute_result",
          "data": {
            "text/plain": [
              "5"
            ]
          },
          "metadata": {},
          "execution_count": 7
        }
      ]
    },
    {
      "cell_type": "code",
      "source": [
        "b"
      ],
      "metadata": {
        "colab": {
          "base_uri": "https://localhost:8080/"
        },
        "id": "OEN-vgmGJ3xK",
        "outputId": "f847fedf-046f-44ff-c1d0-e94008ba630f"
      },
      "execution_count": null,
      "outputs": [
        {
          "output_type": "execute_result",
          "data": {
            "text/plain": [
              "array([[57,  9, 86, 33],\n",
              "       [56, 29, 80, 12],\n",
              "       [84, 28, 11, 80],\n",
              "       [73, 91, 32, 80],\n",
              "       [40, 74, 71, 28],\n",
              "       [23, 48, 57, 93]])"
            ]
          },
          "metadata": {},
          "execution_count": 8
        }
      ]
    },
    {
      "cell_type": "code",
      "source": [
        "np.argmax(b,axis=1)"
      ],
      "metadata": {
        "colab": {
          "base_uri": "https://localhost:8080/"
        },
        "id": "prY8llh8KI24",
        "outputId": "c3dd1b3c-45b4-4147-bdcf-90f8d022e449"
      },
      "execution_count": null,
      "outputs": [
        {
          "output_type": "execute_result",
          "data": {
            "text/plain": [
              "array([2, 2, 0, 1, 1, 3])"
            ]
          },
          "metadata": {},
          "execution_count": 9
        }
      ]
    },
    {
      "cell_type": "markdown",
      "source": [
        "#np.argmin"
      ],
      "metadata": {
        "id": "K-WoHqemKpNz"
      }
    },
    {
      "cell_type": "code",
      "source": [
        "np.argmin(a)"
      ],
      "metadata": {
        "colab": {
          "base_uri": "https://localhost:8080/"
        },
        "id": "NOykGnZ-KOUL",
        "outputId": "bb221295-ec28-4883-b7ab-5857c39a545f"
      },
      "execution_count": null,
      "outputs": [
        {
          "output_type": "execute_result",
          "data": {
            "text/plain": [
              "4"
            ]
          },
          "metadata": {},
          "execution_count": 10
        }
      ]
    },
    {
      "cell_type": "markdown",
      "source": [
        "#np.cumsum"
      ],
      "metadata": {
        "id": "kDGTZtbKLecC"
      }
    },
    {
      "cell_type": "code",
      "source": [
        "a"
      ],
      "metadata": {
        "colab": {
          "base_uri": "https://localhost:8080/"
        },
        "id": "JyDy4QaFKt-S",
        "outputId": "d78a0483-22d2-4022-d350-97c66549887c"
      },
      "execution_count": null,
      "outputs": [
        {
          "output_type": "execute_result",
          "data": {
            "text/plain": [
              "array([39, 84, 31, 30,  1, 89, 88, 87, 69, 64, 67, 71, 64, 45, 84])"
            ]
          },
          "metadata": {},
          "execution_count": 11
        }
      ]
    },
    {
      "cell_type": "code",
      "source": [
        "np.cumsum(a)"
      ],
      "metadata": {
        "colab": {
          "base_uri": "https://localhost:8080/"
        },
        "id": "NVtch3iULhx6",
        "outputId": "952b4150-8cc8-47a2-da21-07c9d71fc9ec"
      },
      "execution_count": null,
      "outputs": [
        {
          "output_type": "execute_result",
          "data": {
            "text/plain": [
              "array([ 39, 123, 154, 184, 185, 274, 362, 449, 518, 582, 649, 720, 784,\n",
              "       829, 913])"
            ]
          },
          "metadata": {},
          "execution_count": 12
        }
      ]
    },
    {
      "cell_type": "code",
      "source": [
        "np.cumsum(b,axis=1)"
      ],
      "metadata": {
        "colab": {
          "base_uri": "https://localhost:8080/"
        },
        "id": "fOr33YILLj54",
        "outputId": "643c011d-7f17-4d8f-9e01-1725d8acee22"
      },
      "execution_count": null,
      "outputs": [
        {
          "output_type": "execute_result",
          "data": {
            "text/plain": [
              "array([[ 57,  66, 152, 185],\n",
              "       [ 56,  85, 165, 177],\n",
              "       [ 84, 112, 123, 203],\n",
              "       [ 73, 164, 196, 276],\n",
              "       [ 40, 114, 185, 213],\n",
              "       [ 23,  71, 128, 221]])"
            ]
          },
          "metadata": {},
          "execution_count": 14
        }
      ]
    },
    {
      "cell_type": "markdown",
      "source": [
        "#np.cumprod"
      ],
      "metadata": {
        "id": "zVRnlaeFN1_0"
      }
    },
    {
      "cell_type": "code",
      "source": [
        "np.cumprod(a)"
      ],
      "metadata": {
        "colab": {
          "base_uri": "https://localhost:8080/"
        },
        "id": "jBCFc7wSLt_-",
        "outputId": "b880d0c8-0dae-485a-e6a8-99a1bc2bb3ff"
      },
      "execution_count": null,
      "outputs": [
        {
          "output_type": "execute_result",
          "data": {
            "text/plain": [
              "array([                  39,                 3276,               101556,\n",
              "                    3046680,              3046680,            271154520,\n",
              "                23861597760,        2075959005120,      143241171353280,\n",
              "           9167434966609920,   614218142762864640,  6715999988744286208,\n",
              "        5548885584314630144, -8554565737775366144,   839496901541756928])"
            ]
          },
          "metadata": {},
          "execution_count": 15
        }
      ]
    },
    {
      "cell_type": "markdown",
      "source": [
        "#np.percentile"
      ],
      "metadata": {
        "id": "KynR1Fz-OEe6"
      }
    },
    {
      "cell_type": "code",
      "source": [
        "a"
      ],
      "metadata": {
        "colab": {
          "base_uri": "https://localhost:8080/"
        },
        "id": "kHJrIRZyN871",
        "outputId": "71401694-14b1-4236-c0f7-15deb8044a6f"
      },
      "execution_count": null,
      "outputs": [
        {
          "output_type": "execute_result",
          "data": {
            "text/plain": [
              "array([39, 84, 31, 30,  1, 89, 88, 87, 69, 64, 67, 71, 64, 45, 84])"
            ]
          },
          "metadata": {},
          "execution_count": 16
        }
      ]
    },
    {
      "cell_type": "code",
      "source": [
        "np.percentile(a,100)"
      ],
      "metadata": {
        "colab": {
          "base_uri": "https://localhost:8080/"
        },
        "id": "rm1oG9yzOt2X",
        "outputId": "05da78c0-fbe3-4ea2-8553-400b4698f222"
      },
      "execution_count": null,
      "outputs": [
        {
          "output_type": "execute_result",
          "data": {
            "text/plain": [
              "89.0"
            ]
          },
          "metadata": {},
          "execution_count": 17
        }
      ]
    },
    {
      "cell_type": "code",
      "source": [
        "np.percentile(a,50)"
      ],
      "metadata": {
        "colab": {
          "base_uri": "https://localhost:8080/"
        },
        "id": "10AprPIqOyDl",
        "outputId": "5c106501-a4a4-44da-b436-b7782739c018"
      },
      "execution_count": null,
      "outputs": [
        {
          "output_type": "execute_result",
          "data": {
            "text/plain": [
              "67.0"
            ]
          },
          "metadata": {},
          "execution_count": 18
        }
      ]
    },
    {
      "cell_type": "markdown",
      "source": [
        "#np.histogram"
      ],
      "metadata": {
        "id": "6GEYfG5bPTEu"
      }
    },
    {
      "cell_type": "code",
      "source": [
        "a"
      ],
      "metadata": {
        "colab": {
          "base_uri": "https://localhost:8080/"
        },
        "id": "OBgQhJIaO5dC",
        "outputId": "9e922eaa-7168-464a-8ecf-e16b44469737"
      },
      "execution_count": null,
      "outputs": [
        {
          "output_type": "execute_result",
          "data": {
            "text/plain": [
              "array([39, 84, 31, 30,  1, 89, 88, 87, 69, 64, 67, 71, 64, 45, 84])"
            ]
          },
          "metadata": {},
          "execution_count": 21
        }
      ]
    },
    {
      "cell_type": "code",
      "source": [
        "np.histogram(a,bins=[0,10,20,30,40,50,60,70,80,90,100])"
      ],
      "metadata": {
        "colab": {
          "base_uri": "https://localhost:8080/"
        },
        "id": "ygk0C3uYO_bS",
        "outputId": "f40257a8-4251-43ec-a25e-0d208c7c13da"
      },
      "execution_count": null,
      "outputs": [
        {
          "output_type": "execute_result",
          "data": {
            "text/plain": [
              "(array([1, 0, 0, 3, 1, 0, 4, 1, 5, 0]),\n",
              " array([  0,  10,  20,  30,  40,  50,  60,  70,  80,  90, 100]))"
            ]
          },
          "metadata": {},
          "execution_count": 22
        }
      ]
    },
    {
      "cell_type": "markdown",
      "source": [
        "#np.corrcoef"
      ],
      "metadata": {
        "id": "uf_x4W2BQPiE"
      }
    },
    {
      "cell_type": "code",
      "source": [
        "salary=np.array([20000,35000,50000,60000,71100])\n",
        "experience=np.array([1,2,3,1,4])\n",
        "\n",
        "np.corrcoef(salary,experience)\n"
      ],
      "metadata": {
        "colab": {
          "base_uri": "https://localhost:8080/"
        },
        "id": "4rMFEUlgQAfX",
        "outputId": "cde2c8fc-a189-4aa6-c1cd-5b8ef4bfa5fa"
      },
      "execution_count": null,
      "outputs": [
        {
          "output_type": "execute_result",
          "data": {
            "text/plain": [
              "array([[1.        , 0.61691121],\n",
              "       [0.61691121, 1.        ]])"
            ]
          },
          "metadata": {},
          "execution_count": 23
        }
      ]
    },
    {
      "cell_type": "markdown",
      "source": [
        "#np.isin"
      ],
      "metadata": {
        "id": "sE88ATzhoO2S"
      }
    },
    {
      "cell_type": "code",
      "source": [
        "a"
      ],
      "metadata": {
        "id": "8vPKoNNuRbRq",
        "colab": {
          "base_uri": "https://localhost:8080/"
        },
        "outputId": "65be3099-1431-4792-d036-e4f2f1f74528"
      },
      "execution_count": null,
      "outputs": [
        {
          "output_type": "execute_result",
          "data": {
            "text/plain": [
              "array([80, 66, 33,  5, 12, 87, 44, 65,  3, 15, 66, 83, 12, 60, 60])"
            ]
          },
          "metadata": {},
          "execution_count": 6
        }
      ]
    },
    {
      "cell_type": "code",
      "source": [
        "items = [12,15,20,50,80,46,89,38]\n",
        "\n",
        "np.isin(a,items)"
      ],
      "metadata": {
        "colab": {
          "base_uri": "https://localhost:8080/"
        },
        "id": "K1HM39bpoShZ",
        "outputId": "75198372-0b51-42a8-9950-b5367d618126"
      },
      "execution_count": null,
      "outputs": [
        {
          "output_type": "execute_result",
          "data": {
            "text/plain": [
              "array([ True, False, False, False,  True, False, False, False, False,\n",
              "        True, False, False,  True, False, False])"
            ]
          },
          "metadata": {},
          "execution_count": 7
        }
      ]
    },
    {
      "cell_type": "code",
      "source": [
        "a[np.isin(a,items)]"
      ],
      "metadata": {
        "colab": {
          "base_uri": "https://localhost:8080/"
        },
        "id": "oDt1w4r4olzn",
        "outputId": "b0ae370a-8236-404e-9748-cc8d9ec06c5a"
      },
      "execution_count": null,
      "outputs": [
        {
          "output_type": "execute_result",
          "data": {
            "text/plain": [
              "array([80, 12, 15, 12])"
            ]
          },
          "metadata": {},
          "execution_count": 8
        }
      ]
    },
    {
      "cell_type": "markdown",
      "source": [
        "#np.flip"
      ],
      "metadata": {
        "id": "6xPdoOXtpKhA"
      }
    },
    {
      "cell_type": "code",
      "source": [
        "a"
      ],
      "metadata": {
        "colab": {
          "base_uri": "https://localhost:8080/"
        },
        "id": "3zulxop_o8SJ",
        "outputId": "634734f3-b0c5-434a-fa49-93e095088c75"
      },
      "execution_count": null,
      "outputs": [
        {
          "output_type": "execute_result",
          "data": {
            "text/plain": [
              "array([80, 66, 33,  5, 12, 87, 44, 65,  3, 15, 66, 83, 12, 60, 60])"
            ]
          },
          "metadata": {},
          "execution_count": 9
        }
      ]
    },
    {
      "cell_type": "code",
      "source": [
        "np.flip(a)"
      ],
      "metadata": {
        "colab": {
          "base_uri": "https://localhost:8080/"
        },
        "id": "VVq7SBEIpNsE",
        "outputId": "349d63c7-6d91-4000-895f-935e6aa57cdd"
      },
      "execution_count": null,
      "outputs": [
        {
          "output_type": "execute_result",
          "data": {
            "text/plain": [
              "array([60, 60, 12, 83, 66, 15,  3, 65, 44, 87, 12,  5, 33, 66, 80])"
            ]
          },
          "metadata": {},
          "execution_count": 10
        }
      ]
    },
    {
      "cell_type": "markdown",
      "source": [
        "#np.put"
      ],
      "metadata": {
        "id": "iw970780p5C0"
      }
    },
    {
      "cell_type": "code",
      "source": [
        "a"
      ],
      "metadata": {
        "colab": {
          "base_uri": "https://localhost:8080/"
        },
        "id": "88jxopDnpPnB",
        "outputId": "4e0e1f1f-5cd6-4dff-8f8c-212020b33f55"
      },
      "execution_count": null,
      "outputs": [
        {
          "output_type": "execute_result",
          "data": {
            "text/plain": [
              "array([80, 66, 33,  5, 12, 87, 44, 65,  3, 15, 66, 83, 12, 60, 60])"
            ]
          },
          "metadata": {},
          "execution_count": 13
        }
      ]
    },
    {
      "cell_type": "code",
      "source": [
        "np.put(a,[1,5],[65,97]) #np.put do permanent change"
      ],
      "metadata": {
        "id": "2i_rCzWRpVfX"
      },
      "execution_count": null,
      "outputs": []
    },
    {
      "cell_type": "code",
      "source": [
        "a"
      ],
      "metadata": {
        "colab": {
          "base_uri": "https://localhost:8080/"
        },
        "id": "DXJSjC2GqLyj",
        "outputId": "0394de9b-5080-45d2-e51e-7ee585cdeb9a"
      },
      "execution_count": null,
      "outputs": [
        {
          "output_type": "execute_result",
          "data": {
            "text/plain": [
              "array([80, 65, 33,  5, 12, 97, 44, 65,  3, 15, 66, 83, 12, 60, 60])"
            ]
          },
          "metadata": {},
          "execution_count": 15
        }
      ]
    },
    {
      "cell_type": "markdown",
      "source": [
        "#np.delete"
      ],
      "metadata": {
        "id": "LwPM6yHaqnXa"
      }
    },
    {
      "cell_type": "code",
      "source": [
        "np.delete(a,[2,4,14,5])"
      ],
      "metadata": {
        "colab": {
          "base_uri": "https://localhost:8080/"
        },
        "id": "d4lmEHtsqM13",
        "outputId": "22d066f0-329e-4940-8cae-4dbe3f6fd8d0"
      },
      "execution_count": null,
      "outputs": [
        {
          "output_type": "execute_result",
          "data": {
            "text/plain": [
              "array([80, 65,  5, 44, 65,  3, 15, 66, 83, 12, 60])"
            ]
          },
          "metadata": {},
          "execution_count": 17
        }
      ]
    },
    {
      "cell_type": "code",
      "source": [
        "a"
      ],
      "metadata": {
        "colab": {
          "base_uri": "https://localhost:8080/"
        },
        "id": "m_WesLv6qwUB",
        "outputId": "b8fb5254-2108-491a-c03a-38d3725aabf8"
      },
      "execution_count": null,
      "outputs": [
        {
          "output_type": "execute_result",
          "data": {
            "text/plain": [
              "array([80, 65, 33,  5, 12, 97, 44, 65,  3, 15, 66, 83, 12, 60, 60])"
            ]
          },
          "metadata": {},
          "execution_count": 18
        }
      ]
    },
    {
      "cell_type": "markdown",
      "source": [
        "#Set Functions\n",
        "\n",
        "\n",
        "*   np.union1d\n",
        "*   np.intersect1d\n",
        "\n",
        "\n",
        "*   np.setdiff1d\n",
        "*   np.setxor1d\n",
        "\n",
        "*   np.in1d\n",
        "\n",
        "\n",
        "\n",
        "\n",
        "\n"
      ],
      "metadata": {
        "id": "1eaHOOHerWjI"
      }
    },
    {
      "cell_type": "code",
      "source": [
        "m = np.array([1,2,3,4,5])\n",
        "n = np.array([3,4,5,6,7])\n",
        "\n",
        "np.union1d(m,n)"
      ],
      "metadata": {
        "colab": {
          "base_uri": "https://localhost:8080/"
        },
        "id": "aLZCNpuzqzlv",
        "outputId": "8625fa3c-8bd1-4e84-ee1a-89173446a7d7"
      },
      "execution_count": null,
      "outputs": [
        {
          "output_type": "execute_result",
          "data": {
            "text/plain": [
              "array([1, 2, 3, 4, 5, 6, 7])"
            ]
          },
          "metadata": {},
          "execution_count": 19
        }
      ]
    },
    {
      "cell_type": "code",
      "source": [
        "np.intersect1d(m,n)"
      ],
      "metadata": {
        "colab": {
          "base_uri": "https://localhost:8080/"
        },
        "id": "2QtSNSS3sT4m",
        "outputId": "b4ba304f-5ed0-4562-9feb-aa0289298f32"
      },
      "execution_count": null,
      "outputs": [
        {
          "output_type": "execute_result",
          "data": {
            "text/plain": [
              "array([3, 4, 5])"
            ]
          },
          "metadata": {},
          "execution_count": 20
        }
      ]
    },
    {
      "cell_type": "code",
      "source": [
        "np.setdiff1d(m,n)"
      ],
      "metadata": {
        "colab": {
          "base_uri": "https://localhost:8080/"
        },
        "id": "2oza5wgSsYQa",
        "outputId": "afbb41c8-04e6-4fe6-f0a3-fa120a0d3754"
      },
      "execution_count": null,
      "outputs": [
        {
          "output_type": "execute_result",
          "data": {
            "text/plain": [
              "array([1, 2])"
            ]
          },
          "metadata": {},
          "execution_count": 21
        }
      ]
    },
    {
      "cell_type": "code",
      "source": [
        "np.setdiff1d(n,m)"
      ],
      "metadata": {
        "colab": {
          "base_uri": "https://localhost:8080/"
        },
        "id": "HUlL9e01sfFw",
        "outputId": "06988618-6cbc-4566-cbfb-d490799b2461"
      },
      "execution_count": null,
      "outputs": [
        {
          "output_type": "execute_result",
          "data": {
            "text/plain": [
              "array([6, 7])"
            ]
          },
          "metadata": {},
          "execution_count": 22
        }
      ]
    },
    {
      "cell_type": "code",
      "source": [
        "np.setxor1d(m,n)"
      ],
      "metadata": {
        "colab": {
          "base_uri": "https://localhost:8080/"
        },
        "id": "J2V_ALh2sj3R",
        "outputId": "702292f4-32eb-464d-9e04-95a76544888b"
      },
      "execution_count": null,
      "outputs": [
        {
          "output_type": "execute_result",
          "data": {
            "text/plain": [
              "array([1, 2, 6, 7])"
            ]
          },
          "metadata": {},
          "execution_count": 23
        }
      ]
    },
    {
      "cell_type": "code",
      "source": [
        "np.in1d(m,n)"
      ],
      "metadata": {
        "colab": {
          "base_uri": "https://localhost:8080/"
        },
        "id": "77w2AOTqss1W",
        "outputId": "c1033b6a-8860-489f-9b33-fce57acec02b"
      },
      "execution_count": null,
      "outputs": [
        {
          "output_type": "execute_result",
          "data": {
            "text/plain": [
              "array([False, False,  True,  True,  True])"
            ]
          },
          "metadata": {},
          "execution_count": 24
        }
      ]
    },
    {
      "cell_type": "code",
      "source": [
        "n[np.in1d(n,m)]"
      ],
      "metadata": {
        "colab": {
          "base_uri": "https://localhost:8080/"
        },
        "id": "6xFvogonszJU",
        "outputId": "05c94239-c0fa-4371-debf-4844557df1fc"
      },
      "execution_count": null,
      "outputs": [
        {
          "output_type": "execute_result",
          "data": {
            "text/plain": [
              "array([3, 4, 5])"
            ]
          },
          "metadata": {},
          "execution_count": 26
        }
      ]
    },
    {
      "cell_type": "markdown",
      "source": [
        "#np.clip"
      ],
      "metadata": {
        "id": "T2AIKligtp-z"
      }
    },
    {
      "cell_type": "code",
      "source": [
        "a"
      ],
      "metadata": {
        "colab": {
          "base_uri": "https://localhost:8080/"
        },
        "id": "pnwL0MUas40L",
        "outputId": "00c455c6-f6fa-4815-eed1-ea464ec69ce8"
      },
      "execution_count": null,
      "outputs": [
        {
          "output_type": "execute_result",
          "data": {
            "text/plain": [
              "array([80, 65, 33,  5, 12, 97, 44, 65,  3, 15, 66, 83, 12, 60, 60])"
            ]
          },
          "metadata": {},
          "execution_count": 27
        }
      ]
    },
    {
      "cell_type": "code",
      "source": [
        "np.clip(a,a_min=15,a_max=50)"
      ],
      "metadata": {
        "colab": {
          "base_uri": "https://localhost:8080/"
        },
        "id": "VturEmNzttB5",
        "outputId": "dad448c6-df58-4eb6-9cf1-39f458f41080"
      },
      "execution_count": null,
      "outputs": [
        {
          "output_type": "execute_result",
          "data": {
            "text/plain": [
              "array([50, 50, 33, 15, 15, 50, 44, 50, 15, 15, 50, 50, 15, 50, 50])"
            ]
          },
          "metadata": {},
          "execution_count": 28
        }
      ]
    },
    {
      "cell_type": "code",
      "source": [],
      "metadata": {
        "id": "1WUDlGDQt7vX"
      },
      "execution_count": null,
      "outputs": []
    }
  ]
}